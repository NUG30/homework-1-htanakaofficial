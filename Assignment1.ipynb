{
  "nbformat": 4,
  "nbformat_minor": 0,
  "metadata": {
    "colab": {
      "name": "Assignment1.ipynb",
      "provenance": [],
      "collapsed_sections": [],
      "include_colab_link": true
    },
    "kernelspec": {
      "name": "python3",
      "display_name": "Python 3"
    }
  },
  "cells": [
    {
      "cell_type": "markdown",
      "metadata": {
        "id": "view-in-github",
        "colab_type": "text"
      },
      "source": [
        "<a href=\"https://colab.research.google.com/github/NUG30/homework-1-htanakaofficial/blob/main/Assignment1.ipynb\" target=\"_parent\"><img src=\"https://colab.research.google.com/assets/colab-badge.svg\" alt=\"Open In Colab\"/></a>"
      ]
    },
    {
      "cell_type": "markdown",
      "metadata": {
        "id": "6cRdXGYzOlil"
      },
      "source": [
        "# Homework 1: Introduction to Python and NumPy\n",
        "\n",
        "In this homework, we will learn to do some basic linear algebra (and other numeric) computations using the Python programming language and the NumPy library. First, we want to _import_ the NumPy and Matplotlib libraries, which we will use throughout the homework. You must execute the following code block before you execute any other code in this file."
      ]
    },
    {
      "cell_type": "code",
      "metadata": {
        "id": "VW0xyjK3Rwj1"
      },
      "source": [
        "import numpy as np\n",
        "import matplotlib.pyplot as plt"
      ],
      "execution_count": 2,
      "outputs": []
    },
    {
      "cell_type": "markdown",
      "metadata": {
        "id": "pNoAykUSQj74"
      },
      "source": [
        "## Example 1: adding two matrices\n",
        "In linear algebra, you learned that adding matrices is easy. To add a matrix $A$ and $B$, you just perform addition component-wise. You cannot, however, add \n",
        "two matrices of different dimensions.\n",
        "\n",
        "In NumPy, matrices are represented as `numpy.array` (for those familiar with computer programming, this name might be misleading). Let us create a $2 \\times 3$ matrix in NumPy as an example:"
      ]
    },
    {
      "cell_type": "code",
      "metadata": {
        "id": "2Metmv13RVE0",
        "outputId": "39786315-ca21-4294-c744-ae540b9b5321",
        "colab": {
          "base_uri": "https://localhost:8080/",
          "height": 57
        }
      },
      "source": [
        "np.array([[1, 2, 3],\n",
        "          [4, 5, 6]])"
      ],
      "execution_count": null,
      "outputs": [
        {
          "output_type": "execute_result",
          "data": {
            "text/plain": [
              "array([[1, 2, 3],\n",
              "       [4, 5, 6]])"
            ]
          },
          "metadata": {
            "tags": []
          },
          "execution_count": 2
        }
      ]
    },
    {
      "cell_type": "markdown",
      "metadata": {
        "id": "Ni_Y0wQ3R9kZ"
      },
      "source": [
        "Try changing the dimensions of the matrix and add more (or remove some) elements to the matrix above!"
      ]
    },
    {
      "cell_type": "markdown",
      "metadata": {
        "id": "tJb1n1cRSI0x"
      },
      "source": [
        "Next, we move on to adding two matrices. We want to add each component of the matrices one by one, so we use a _loop_ to accomplish it. "
      ]
    },
    {
      "cell_type": "code",
      "metadata": {
        "id": "h7ampMjdSHAH"
      },
      "source": [
        "def matrix_add(A, B):\n",
        "  # create a new array with the same dimensions to hold the result\n",
        "  M = np.empty(A.shape)\n",
        "  # get the height of the array\n",
        "  m = len(A)\n",
        "  # iterate through each row\n",
        "  for i in range(m):\n",
        "    # get the size of the i-th row\n",
        "    n = len(A[i])\n",
        "    # then iterate the row\n",
        "    for j in range(n):\n",
        "      M[i][j] = A[i][j] + B[i][j]\n",
        "  \n",
        "  # return the final result\n",
        "  # never forget to RETURN the result of your computation!\n",
        "  return M"
      ],
      "execution_count": null,
      "outputs": []
    },
    {
      "cell_type": "markdown",
      "metadata": {
        "id": "iQ6CfUG1UmmX"
      },
      "source": [
        "We have defined a _function_ `matrix_add` that takes two arguments, $A$ and $B$, which should be matrices of the same size, and _returns_ the result of the addition. We can run the function to check if our function is correct:"
      ]
    },
    {
      "cell_type": "code",
      "metadata": {
        "id": "7r6huvDmUl8f",
        "outputId": "0f362714-dbca-4ce3-d5b5-07abf70ac2e9",
        "colab": {
          "base_uri": "https://localhost:8080/",
          "height": 57
        }
      },
      "source": [
        "A = np.array([[1, 2, 3],\n",
        "              [4, 5, 6]])\n",
        "B = np.array([[2, 3, 4],\n",
        "              [5, 6, 7]])\n",
        "\n",
        "matrix_add(A, B)"
      ],
      "execution_count": null,
      "outputs": [
        {
          "output_type": "execute_result",
          "data": {
            "text/plain": [
              "array([[ 3.,  5.,  7.],\n",
              "       [ 9., 11., 13.]])"
            ]
          },
          "metadata": {
            "tags": []
          },
          "execution_count": 4
        }
      ]
    },
    {
      "cell_type": "markdown",
      "metadata": {
        "id": "vMZA7idOVRKj"
      },
      "source": [
        "However, there is a flaw in this function! If we give it two matrices of different sizes, the function will fail mysteriously. Try changing the code above to observe what happens. For this reason, we might want to check beforehand that $A$ and $B$ have the same dimensions, and if they do not, we want to be informed that the input is invalid. To do this, we can use a _conditional statement_ to check if they have the same dimensions, and _throw an exception_ if they do not:"
      ]
    },
    {
      "cell_type": "code",
      "metadata": {
        "id": "sry171hSWE2D"
      },
      "source": [
        "def matrix_add_improved(A, B):\n",
        "  # check that A and B have the same shape\n",
        "  if (A.shape != B.shape):\n",
        "    # if not, then raise an exception\n",
        "    raise Exception(\"Cannot add matrices of different dimensions!\")\n",
        "\n",
        "  M = np.empty(A.shape)\n",
        "  m = len(A)\n",
        "  for i in range(m):\n",
        "    n = len(A[i])\n",
        "    for j in range(n):\n",
        "      M[i][j] = A[i][j] + B[i][j]\n",
        "  \n",
        "  return M"
      ],
      "execution_count": null,
      "outputs": []
    },
    {
      "cell_type": "markdown",
      "metadata": {
        "id": "6PdDsDgLWUxn"
      },
      "source": [
        "Now, when we attempt to add matrices of different dimensions, we will receive an error that tells us precisely so:"
      ]
    },
    {
      "cell_type": "code",
      "metadata": {
        "id": "8lZ2nR8eWjUK",
        "outputId": "6fb215d0-910a-4cdd-a912-b8399d45b666",
        "colab": {
          "base_uri": "https://localhost:8080/",
          "height": 364
        }
      },
      "source": [
        "A = np.array([[1, 2],\n",
        "              [3, 4]])\n",
        "B = np.array([[1, 2, 3],\n",
        "              [4, 5, 6]])\n",
        "\n",
        "matrix_add_improved(A, B)"
      ],
      "execution_count": null,
      "outputs": [
        {
          "output_type": "error",
          "ename": "Exception",
          "evalue": "ignored",
          "traceback": [
            "\u001b[0;31m---------------------------------------------------------------------------\u001b[0m",
            "\u001b[0;31mException\u001b[0m                                 Traceback (most recent call last)",
            "\u001b[0;32m<ipython-input-6-c31c64477c8e>\u001b[0m in \u001b[0;36m<module>\u001b[0;34m()\u001b[0m\n\u001b[1;32m      4\u001b[0m               [4, 5, 6]])\n\u001b[1;32m      5\u001b[0m \u001b[0;34m\u001b[0m\u001b[0m\n\u001b[0;32m----> 6\u001b[0;31m \u001b[0mmatrix_add_improved\u001b[0m\u001b[0;34m(\u001b[0m\u001b[0mA\u001b[0m\u001b[0;34m,\u001b[0m \u001b[0mB\u001b[0m\u001b[0;34m)\u001b[0m\u001b[0;34m\u001b[0m\u001b[0;34m\u001b[0m\u001b[0m\n\u001b[0m",
            "\u001b[0;32m<ipython-input-5-84503ee20f0f>\u001b[0m in \u001b[0;36mmatrix_add_improved\u001b[0;34m(A, B)\u001b[0m\n\u001b[1;32m      3\u001b[0m   \u001b[0;32mif\u001b[0m \u001b[0;34m(\u001b[0m\u001b[0mA\u001b[0m\u001b[0;34m.\u001b[0m\u001b[0mshape\u001b[0m \u001b[0;34m!=\u001b[0m \u001b[0mB\u001b[0m\u001b[0;34m.\u001b[0m\u001b[0mshape\u001b[0m\u001b[0;34m)\u001b[0m\u001b[0;34m:\u001b[0m\u001b[0;34m\u001b[0m\u001b[0;34m\u001b[0m\u001b[0m\n\u001b[1;32m      4\u001b[0m     \u001b[0;31m# if not, then raise an exception\u001b[0m\u001b[0;34m\u001b[0m\u001b[0;34m\u001b[0m\u001b[0;34m\u001b[0m\u001b[0m\n\u001b[0;32m----> 5\u001b[0;31m     \u001b[0;32mraise\u001b[0m \u001b[0mException\u001b[0m\u001b[0;34m(\u001b[0m\u001b[0;34m\"Cannot add matrices of different dimensions!\"\u001b[0m\u001b[0;34m)\u001b[0m\u001b[0;34m\u001b[0m\u001b[0;34m\u001b[0m\u001b[0m\n\u001b[0m\u001b[1;32m      6\u001b[0m \u001b[0;34m\u001b[0m\u001b[0m\n\u001b[1;32m      7\u001b[0m   \u001b[0mM\u001b[0m \u001b[0;34m=\u001b[0m \u001b[0mnp\u001b[0m\u001b[0;34m.\u001b[0m\u001b[0mempty\u001b[0m\u001b[0;34m(\u001b[0m\u001b[0mA\u001b[0m\u001b[0;34m.\u001b[0m\u001b[0mshape\u001b[0m\u001b[0;34m)\u001b[0m\u001b[0;34m\u001b[0m\u001b[0;34m\u001b[0m\u001b[0m\n",
            "\u001b[0;31mException\u001b[0m: Cannot add matrices of different dimensions!"
          ]
        }
      ]
    },
    {
      "cell_type": "markdown",
      "metadata": {
        "id": "EuS0zjyVWzAV"
      },
      "source": [
        "That's much better! Generally we do not require that you add such \"sanity checks\" in your programs for this course, but it could never hurt you (and often help you) to do so. In this assignment, we ask you to check for dimensional errors to familiarize you with Python."
      ]
    },
    {
      "cell_type": "markdown",
      "metadata": {
        "id": "oCdjl4W_XPQG"
      },
      "source": [
        "Next, it is your turn to do some things!"
      ]
    },
    {
      "cell_type": "markdown",
      "metadata": {
        "id": "zzPC7Kf5XR2l"
      },
      "source": [
        "## Exercise 0: find the transpose of a matrix\n",
        "Given a matrix $A$, its transpose $A^T$ is just the matrix \"rotated 90 degrees\". In other words, $A^T[i, j] = A[j, i]$. Now, write a Python function to find the transpose of a given matrix. \n",
        "(Hint: what is the dimension of the transpose of a $m \\times n$ matrix?)\n",
        "\n",
        "This exercise is intended as a warm-up, so if you are already quite familiar with Python, you may skip it. If you are not, then you are strongly adviced to attempt it!"
      ]
    },
    {
      "cell_type": "code",
      "metadata": {
        "id": "Vi0ENCHJX2U0",
        "outputId": "29d03e30-1f6a-4eea-f97a-ee0eb38d30a6",
        "colab": {
          "base_uri": "https://localhost:8080/",
          "height": 85
        }
      },
      "source": [
        "import numpy as np\n",
        "import matplotlib.pyplot as plt\n",
        "\n",
        "def transpose(A):\n",
        "  B = np.empty((len(A[0]), len(A)))\n",
        "  m = len(A)\n",
        "  for i in range((m)):\n",
        "    n = len(A[i])\n",
        "    for j in range((n)):\n",
        "      B[j][i] = A[i][j]\n",
        "  return B\n",
        "\n",
        "C = np.array([[1, 2, 3, 4],\n",
        "              [4, 5, 6, 8]])\n",
        "\n",
        "transpose(C)"
      ],
      "execution_count": null,
      "outputs": [
        {
          "output_type": "execute_result",
          "data": {
            "text/plain": [
              "array([[1., 4.],\n",
              "       [2., 5.],\n",
              "       [3., 6.],\n",
              "       [4., 8.]])"
            ]
          },
          "metadata": {
            "tags": []
          },
          "execution_count": 47
        }
      ]
    },
    {
      "cell_type": "markdown",
      "metadata": {
        "id": "n48sdWg4X6Xn"
      },
      "source": [
        "## Exercise 1: multiplying two matrices\n",
        "Again, this is something you learned in your linear algebra class. Given two matrices $A$ and $B$, write a function that multiplies them.\n",
        "\n",
        "The textbook method to multiply to matrices is sufficient, although this is not the most efficient way. If you have a lot of programming experience, you can try to implement some sort of \"fast matrix multiplication\", such as [Strassen's algorithm](https://en.wikipedia.org/wiki/Strassen_algorithm).\n",
        "\n",
        "(Hint: again, pay attention to the dimensions!)"
      ]
    },
    {
      "cell_type": "code",
      "metadata": {
        "id": "EIe_enf3YVEx",
        "outputId": "cc6094bf-a95e-4c87-928f-b020414915aa",
        "colab": {
          "base_uri": "https://localhost:8080/",
          "height": 136
        }
      },
      "source": [
        "def matrix_multiply(A, B):\n",
        "\n",
        "  m = len(A)\n",
        "  n = len(A[0])\n",
        "  l = len(B[0])\n",
        "  C = np.empty((m, l))\n",
        " \n",
        "  if ( n != len(B)):\n",
        "    raise Exception(\"AB only defined for A[m][n] and B[n][l]\")\n",
        "\n",
        "  for j in range(l):\n",
        "    for i in range(m):\n",
        "      c = 0\n",
        "      for k in range(n):\n",
        "        c += A[i][k] * B[k][j]\n",
        "      C[i][j] = c\n",
        "\n",
        "  return C\n",
        "\n",
        "#the following is a test\n",
        "\n",
        "P = np.array([[1, 0, 0],\n",
        "              [0, 2, 0],\n",
        "              [0, 0, 3]])\n",
        "\n",
        "Q = np.array([[1, 2, 3],\n",
        "              [2, 4, 6],\n",
        "              [3, 6, 9]])\n",
        "\n",
        "X = matrix_multiply(P, Q)\n",
        "print(X)\n",
        "print()\n",
        "\n",
        "Y = np.matmul(P, Q)\n",
        "print(Y)"
      ],
      "execution_count": 18,
      "outputs": [
        {
          "output_type": "stream",
          "text": [
            "[[ 1.  2.  3.]\n",
            " [ 4.  8. 12.]\n",
            " [ 9. 18. 27.]]\n",
            "\n",
            "[[ 1  2  3]\n",
            " [ 4  8 12]\n",
            " [ 9 18 27]]\n"
          ],
          "name": "stdout"
        }
      ]
    },
    {
      "cell_type": "markdown",
      "metadata": {
        "id": "CrEzUCnyZXGN"
      },
      "source": [
        "In fact, NumPy already provides us with a lot of the basic functions required \n",
        "to work with matrices (such as adding, subtracting and multiplying matrices). [Here](https://s3.amazonaws.com/assets.datacamp.com/blog_assets/Numpy_Python_Cheat_Sheet.pdf) you can find a brief guide to all of them. From now on you may use all the matrix manipulating (and linear algebraic) functions in NumPy freely."
      ]
    },
    {
      "cell_type": "markdown",
      "metadata": {
        "id": "VRKe2zuGMI27"
      },
      "source": [
        "## Example 2: linear systems of equations\n",
        "A linear system of $m$ equations and $n$ unknowns can be expressed as $Ax = B$, where $A$ is a $m \\times n$ matrix. For example, the system\n",
        "$$\n",
        "3x + 2y - z = 12\\\\\n",
        "x - y + 3z = 1\\\\\n",
        "4x - y + 2z = 5\n",
        "$$\n",
        "can be expressed in matrix form as\n",
        "$$\n",
        "\\begin{bmatrix}\n",
        "3 & 2 & -1\\\\\n",
        "1 & -1 & 3\\\\\n",
        "4 & -1 & 2\n",
        "\\end{bmatrix}\n",
        "\\begin{bmatrix}\n",
        "x \\\\ y \\\\ z\n",
        "\\end{bmatrix} =\n",
        "\\begin{bmatrix}\n",
        "12 \\\\ 1 \\\\ 5\n",
        "\\end{bmatrix}.\n",
        "$$"
      ]
    },
    {
      "cell_type": "markdown",
      "metadata": {
        "id": "MhBJnyHpOOYV"
      },
      "source": [
        "Then, we can use the function `np.linalg.solve` to solve a linear system of equations in matrix form. From linear algebra class, you know that $A$ must be a square matrix of full rank for the system to have an exact solution. We can use the function `np.linalg.matrix_rank` to confirm this:"
      ]
    },
    {
      "cell_type": "code",
      "metadata": {
        "id": "y5PhIzePOylS",
        "outputId": "47eb8834-903d-44f5-f1ec-281d69aacde5",
        "colab": {
          "base_uri": "https://localhost:8080/",
          "height": 37
        }
      },
      "source": [
        "A = np.array([[3, 2, -1],\n",
        "              [1, -1, 3],\n",
        "              [4, -1, 2]])\n",
        "\n",
        "np.linalg.matrix_rank(A)"
      ],
      "execution_count": null,
      "outputs": [
        {
          "output_type": "execute_result",
          "data": {
            "text/plain": [
              "3"
            ]
          },
          "metadata": {
            "tags": []
          },
          "execution_count": 5
        }
      ]
    },
    {
      "cell_type": "markdown",
      "metadata": {
        "id": "o349QkrTPEMp"
      },
      "source": [
        "Then, we can solve the system of equations:"
      ]
    },
    {
      "cell_type": "code",
      "metadata": {
        "id": "uFQaGCjANj5d",
        "outputId": "066bce4f-a1c4-44c5-be38-b1a29c65aba9",
        "colab": {
          "base_uri": "https://localhost:8080/",
          "height": 37
        }
      },
      "source": [
        "B = np.array([12, 1, 5])\n",
        " \n",
        "np.linalg.solve(A, B)"
      ],
      "execution_count": null,
      "outputs": [
        {
          "output_type": "execute_result",
          "data": {
            "text/plain": [
              "array([1.7, 4. , 1.1])"
            ]
          },
          "metadata": {
            "tags": []
          },
          "execution_count": 6
        }
      ]
    },
    {
      "cell_type": "markdown",
      "metadata": {
        "id": "fK0lN05nPOqs"
      },
      "source": [
        "## Exercise 2: linear regression\n",
        "Let $A$ be a $m\\times n$-matrix and $y\\in \\mathbb{R}^m$.\n",
        "We learned that the \"best\" solution of a linear system $A \\theta = y$ (which might not have exact solutions) is given by the solution of $$(A^T A) \\theta = A^T y$$\n",
        "This solution for $\\theta$ minimizes $||A\\theta - y||$. If the columns of $A$ are linearly independet (which is usually the case in real life applications), then the $n\\times n$-matrix $A^T A$ has full rank, i.e. is invertible and the above euqation can be solved exaclty. \n",
        "\n",
        "**2.1** Implement a function `best_solution(A,y)` which takes as an input a matrix $A$ and a vector $y$ as above and which outputs a vector $\\theta \\in \\mathbb{R}^n$, which is the solution of $(A^T A) \\theta = A^T y$. Use the function `np.linalg.solve` for this."
      ]
    },
    {
      "cell_type": "code",
      "metadata": {
        "id": "BbPaMt1lWt2r",
        "outputId": "4bfefcac-6074-467c-99ca-991a17f99081",
        "colab": {
          "base_uri": "https://localhost:8080/",
          "height": 51
        }
      },
      "source": [
        "def best_solution(A, y):\n",
        "\n",
        "  if (len(A) != len(y)):\n",
        "    raise Exception(\"Argument dimensions are not compatible\")\n",
        "\n",
        "  B = np.transpose(A)\n",
        "  C = np.matmul(B, A)\n",
        "  D = np.matmul(B, y)\n",
        "  x = np.linalg.solve(C, D)\n",
        "\n",
        "  return x\n",
        "\n",
        "#test an exact solution. Let y=2+3x\n",
        "\n",
        "A = np.array([[1,1],\n",
        "              [1,2],\n",
        "              [1,3]])\n",
        "y = np.array([[5],\n",
        "              [8],\n",
        "              [11]])\n",
        "\n",
        "best_solution(A, y)"
      ],
      "execution_count": 31,
      "outputs": [
        {
          "output_type": "execute_result",
          "data": {
            "text/plain": [
              "array([[2.],\n",
              "       [3.]])"
            ]
          },
          "metadata": {
            "tags": []
          },
          "execution_count": 31
        }
      ]
    },
    {
      "cell_type": "markdown",
      "metadata": {
        "id": "m8KhvDF1XkSV"
      },
      "source": [
        "**2.2** Let us consider again the training example of the Tebaski example:"
      ]
    },
    {
      "cell_type": "code",
      "metadata": {
        "id": "g2uNy8O4XhfL",
        "outputId": "89757400-8dc5-44f7-e42a-9d6e7f6c9397",
        "colab": {
          "base_uri": "https://localhost:8080/",
          "height": 543
        }
      },
      "source": [
        "# Training set\n",
        "Tx = np.array([2, 7, 13, 16, 22, 27])\n",
        "Ty = np.array([5, 20, 14, 32, 22, 38])\n",
        "\n",
        "# Draw the Training set\n",
        "plt.figure(figsize=(10,8))\n",
        "plt.plot(Tx,Ty,'X')\n",
        "plt.title(\"Training set\", fontsize =20)\n",
        "plt.xlabel(\"Weeks living in Nagoya\", fontsize=18)\n",
        "plt.ylabel(\"Tebasaki eaten\", fontsize=18)"
      ],
      "execution_count": 20,
      "outputs": [
        {
          "output_type": "execute_result",
          "data": {
            "text/plain": [
              "Text(0, 0.5, 'Tebasaki eaten')"
            ]
          },
          "metadata": {
            "tags": []
          },
          "execution_count": 20
        },
        {
          "output_type": "display_data",
          "data": {
            "image/png": "[encoded data removed]",
            "text/plain": [
              "<Figure size 720x576 with 1 Axes>"
            ]
          },
          "metadata": {
            "tags": [],
            "needs_background": "light"
          }
        }
      ]
    },
    {
      "cell_type": "markdown",
      "metadata": {
        "id": "6XnPl70ZXyzn"
      },
      "source": [
        "Write a function `best_fit(Tx,Ty)` which returns a vector $\\theta = \\begin{pmatrix} \\theta_0 \\\\ \\theta_1 \\end{pmatrix}$, such that the hypothesis $h(x) = \\theta_0 + \\theta_1 x$ is the best fit for our trainings set. For this create the corresponding matrix $A$ and vector $y$ from the training set Tx and Ty and use your function `best_solution(A,y)` from 2.1. "
      ]
    },
    {
      "cell_type": "code",
      "metadata": {
        "id": "Bs7HCxPHXyON",
        "outputId": "26e7cf98-397c-4f8c-ead6-dabd122c50f2",
        "colab": {
          "base_uri": "https://localhost:8080/",
          "height": 34
        }
      },
      "source": [
        "def best_fit(Tx, Ty):\n",
        "\n",
        "  if (len(Tx) != len(Ty)):\n",
        "    raise Exception(\"Not enough data :(\")\n",
        "    \n",
        "  A = np.empty((len(Tx), 2))\n",
        "  for i in range(len(Tx)):\n",
        "    for j in range((2)):\n",
        "      A[i][j] = np.power(Tx[i],j)\n",
        "  \n",
        "  x = best_solution(A, Ty)\n",
        "\n",
        "  return x\n",
        "\n",
        "  raise NotImplemented\n",
        "\n",
        "#below is a test using the Tebasaki data\n",
        "\n",
        "best_fit(Tx, Ty)"
      ],
      "execution_count": 52,
      "outputs": [
        {
          "output_type": "execute_result",
          "data": {
            "text/plain": [
              "array([6.48932868, 1.05820722])"
            ]
          },
          "metadata": {
            "tags": []
          },
          "execution_count": 52
        }
      ]
    },
    {
      "cell_type": "markdown",
      "metadata": {
        "id": "rAwRm2ROYVcv"
      },
      "source": [
        "Plot your result by using the following code:"
      ]
    },
    {
      "cell_type": "code",
      "metadata": {
        "id": "JCC6dmNpYrb-",
        "outputId": "a4785289-e267-4c3f-bcfb-2949281f20b0",
        "colab": {
          "base_uri": "https://localhost:8080/",
          "height": 526
        }
      },
      "source": [
        "# Draw the Training set\n",
        "plt.figure(figsize=(10,8))\n",
        "plt.plot(Tx,Ty,'X')\n",
        "plt.title(\"Training set\", fontsize =20)\n",
        "plt.xlabel(\"Weeks living in Nagoya\", fontsize=18)\n",
        "plt.ylabel(\"Tebasaki eaten\", fontsize=18)\n",
        "\n",
        "# Best fit (by using your own function best_fit)\n",
        "theta = best_fit(Tx, Ty, 1)\n",
        "plt.plot(Tx, theta[0]+ theta[1]*Tx)\n",
        "plt.show()"
      ],
      "execution_count": 25,
      "outputs": [
        {
          "output_type": "display_data",
          "data": {
            "image/png": "[encoded data removed]",
            "text/plain": [
              "<Figure size 720x576 with 1 Axes>"
            ]
          },
          "metadata": {
            "tags": [],
            "needs_background": "light"
          }
        }
      ]
    },
    {
      "cell_type": "markdown",
      "metadata": {
        "id": "rA9b6YO2Y-4R"
      },
      "source": [
        "**2.3 (Bonus - Polynom interpolation)** Extend your function in 2.2 to also allow a parameter $d$ (the degree). The function should return a vector $\\theta=\\begin{pmatrix} \\theta_0 \\\\ \\vdots \\\\ \\theta_d \\end{pmatrix}$, such that the hypothesis $h(x) = \\theta_0 + \\theta_1 x + \\dots + \\theta_d x^d$ gives an interpolation of the trainings set. \n",
        "\n",
        "(This function is already implemente in numpy as `np.polyfit(Tx, Ty, d)`, but you should just use your function `best_solution(A,y)` again. If you want to have a 100% self written implementation, then you can also write your own version of `np.linalg.solve` for the use in `best_solution(A,y)`, by implementing the Gaussian elimination algorithm.)"
      ]
    },
    {
      "cell_type": "code",
      "metadata": {
        "id": "YMZmeEqFZcOr",
        "outputId": "6a7d5793-06da-4604-c2d0-bfd558cb819b",
        "colab": {
          "base_uri": "https://localhost:8080/",
          "height": 526
        }
      },
      "source": [
        "def best_fit2(Tx, Ty,d):\n",
        "\n",
        "  if (len(Tx) != len(Ty)):\n",
        "    raise Exception(\"Not enough data :(\")\n",
        "\n",
        "  A = np.empty((len(Tx), d+1))\n",
        "  for i in range(len(Tx)):\n",
        "    for j in range((d+1)):\n",
        "      A[i][j] = np.power(Tx[i],j)\n",
        "  \n",
        "  x = best_solution(A, Ty)\n",
        "\n",
        "  return x\n",
        "\n",
        "\n",
        "#Below is a test using the Tebasaki data\n",
        "#First, create a polynomial where the x^n term has a coefficient theta[n] \n",
        "def polyfit(x, theta):\n",
        "\n",
        "  y = 0\n",
        "  for i in range(len(theta)):\n",
        "    y += theta[i]*x**i\n",
        "\n",
        "  return y\n",
        "\n",
        "#Plot the best fitting polynomial\n",
        "plt.figure(figsize=(10,8))\n",
        "plt.plot(Tx,Ty,'X')\n",
        "plt.xlim(0,30)\n",
        "plt.ylim(0,40)\n",
        "plt.title(\"Training set\", fontsize =20)\n",
        "plt.xlabel(\"Weeks living in Nagoya\", fontsize=18)\n",
        "plt.ylabel(\"Tebasaki eaten\", fontsize=18)\n",
        "\n",
        "x = np.linspace(0, 30, 300)\n",
        "plt.plot(x, polyfit(x, best_fit2(Tx, Ty, 5)))\n",
        "plt.show()"
      ],
      "execution_count": 53,
      "outputs": [
        {
          "output_type": "display_data",
          "data": {
            "image/png": "[encoded data removed]",
            "text/plain": [
              "<Figure size 720x576 with 1 Axes>"
            ]
          },
          "metadata": {
            "tags": [],
            "needs_background": "light"
          }
        }
      ]
    }
  ]
}